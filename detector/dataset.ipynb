{
 "cells": [
  {
   "cell_type": "code",
   "execution_count": 10,
   "id": "028b83a8-6f23-41a4-ad7b-ddf344d01b13",
   "metadata": {},
   "outputs": [],
   "source": [
    "import glob\n",
    "import json"
   ]
  },
  {
   "cell_type": "code",
   "execution_count": 47,
   "id": "6bcc070b-07ec-42f7-aa37-8c537016f890",
   "metadata": {
    "tags": []
   },
   "outputs": [],
   "source": [
    "all_data = glob.glob('/home/ubuntu/drcha-ai-datalake/labelstudio/reusable-trash-detector/v1/outputs/*')"
   ]
  },
  {
   "cell_type": "code",
   "execution_count": 42,
   "id": "35700cf9-7957-4e16-9617-72aa466be320",
   "metadata": {},
   "outputs": [
    {
     "name": "stdout",
     "output_type": "stream",
     "text": [
      "['6\\t0.625\\t0.564844\\t0.28055599999999997\\t0.184375\\n', '5\\t0.404861\\t0.528906\\t0.243056\\t0.126563\\n', '0\\t0.484722\\t0.37421899999999997\\t0.286111\\t0.184375']\n"
     ]
    }
   ],
   "source": [
    "\n",
    "file = open(\"data/garbage_final/v4/labels/val/3692669.txt\", \"r\")\n",
    "strings = file.readlines()\n",
    "print(strings)\n"
   ]
  },
  {
   "cell_type": "code",
   "execution_count": 48,
   "id": "7cc436b8-7ff9-4efe-9dcb-b9b2d012e5a5",
   "metadata": {},
   "outputs": [],
   "source": [
    "with open('/home/ubuntu/drcha-ai-datalake/labelstudio/reusable-trash-detector/v1/outputs/1185', 'r') as json_file:\n",
    "    data = json.load(json_file)"
   ]
  },
  {
   "cell_type": "code",
   "execution_count": 49,
   "id": "4d8d5a20-cdea-43dc-a545-81c168ebfd09",
   "metadata": {},
   "outputs": [
    {
     "data": {
      "text/plain": [
       "[{'value': {'choices': ['검수 요청']},\n",
       "  'id': 'FD7uyems2U',\n",
       "  'from_name': 'review',\n",
       "  'to_name': 'image',\n",
       "  'type': 'choices'},\n",
       " {'original_width': 720,\n",
       "  'original_height': 1280,\n",
       "  'image_rotation': 0,\n",
       "  'value': {'x': 42.5,\n",
       "   'y': 37.109375,\n",
       "   'width': 8.88888888888889,\n",
       "   'height': 13.4375,\n",
       "   'rotation': 0,\n",
       "   'rectanglelabels': ['페트']},\n",
       "  'id': '7EN6uo4m4B',\n",
       "  'from_name': 'label',\n",
       "  'to_name': 'image',\n",
       "  'type': 'rectanglelabels'}]"
      ]
     },
     "execution_count": 49,
     "metadata": {},
     "output_type": "execute_result"
    }
   ],
   "source": [
    "data['result']"
   ]
  },
  {
   "cell_type": "code",
   "execution_count": 66,
   "id": "36922868-621a-4dda-ba56-2fa4e1844c30",
   "metadata": {},
   "outputs": [
    {
     "ename": "IndexError",
     "evalue": "list index out of range",
     "output_type": "error",
     "traceback": [
      "\u001b[0;31m---------------------------------------------------------------------------\u001b[0m",
      "\u001b[0;31mIndexError\u001b[0m                                Traceback (most recent call last)",
      "\u001b[0;32m/tmp/ipykernel_3546/3109101771.py\u001b[0m in \u001b[0;36m<module>\u001b[0;34m\u001b[0m\n\u001b[1;32m      6\u001b[0m     \u001b[0;32mif\u001b[0m \u001b[0mdata\u001b[0m\u001b[0;34m[\u001b[0m\u001b[0;34m'result'\u001b[0m\u001b[0;34m]\u001b[0m\u001b[0;34m[\u001b[0m\u001b[0;36m0\u001b[0m\u001b[0;34m]\u001b[0m\u001b[0;34m[\u001b[0m\u001b[0;34m'type'\u001b[0m\u001b[0;34m]\u001b[0m\u001b[0;34m!=\u001b[0m\u001b[0;34m'choices'\u001b[0m\u001b[0;34m:\u001b[0m\u001b[0;34m\u001b[0m\u001b[0;34m\u001b[0m\u001b[0m\n\u001b[1;32m      7\u001b[0m         \u001b[0;32mcontinue\u001b[0m\u001b[0;34m\u001b[0m\u001b[0;34m\u001b[0m\u001b[0m\n\u001b[0;32m----> 8\u001b[0;31m     \u001b[0moriginal_width\u001b[0m \u001b[0;34m=\u001b[0m \u001b[0mdata\u001b[0m\u001b[0;34m[\u001b[0m\u001b[0;34m'result'\u001b[0m\u001b[0;34m]\u001b[0m\u001b[0;34m[\u001b[0m\u001b[0;36m1\u001b[0m\u001b[0;34m]\u001b[0m\u001b[0;34m[\u001b[0m\u001b[0;34m'original_width'\u001b[0m\u001b[0;34m]\u001b[0m\u001b[0;34m\u001b[0m\u001b[0;34m\u001b[0m\u001b[0m\n\u001b[0m\u001b[1;32m      9\u001b[0m     \u001b[0moriginal_height\u001b[0m \u001b[0;34m=\u001b[0m \u001b[0mdata\u001b[0m\u001b[0;34m[\u001b[0m\u001b[0;34m'result'\u001b[0m\u001b[0;34m]\u001b[0m\u001b[0;34m[\u001b[0m\u001b[0;36m1\u001b[0m\u001b[0;34m]\u001b[0m\u001b[0;34m[\u001b[0m\u001b[0;34m'original_height'\u001b[0m\u001b[0;34m]\u001b[0m\u001b[0;34m\u001b[0m\u001b[0;34m\u001b[0m\u001b[0m\n\u001b[1;32m     10\u001b[0m     \u001b[0mtemp\u001b[0m\u001b[0;34m=\u001b[0m\u001b[0;34m[\u001b[0m\u001b[0;34m]\u001b[0m\u001b[0;34m\u001b[0m\u001b[0;34m\u001b[0m\u001b[0m\n",
      "\u001b[0;31mIndexError\u001b[0m: list index out of range"
     ]
    }
   ],
   "source": [
    "all_r = []\n",
    "for file_path in all_data:\n",
    "    with open(file_path, 'r') as json_file:\n",
    "        data = json.load(json_file)\n",
    "    image_path = data['task']['data']['image'].split('/')[-1]\n",
    "    if data['result'][0]['type']!='choices':\n",
    "        continue\n",
    "    original_width = data['result'][1]['original_width']\n",
    "    original_height = data['result'][1]['original_height']\n",
    "    temp=[]\n",
    "    \n",
    "    for ele in data['result'][1:]:\n",
    "        x = ele['value']['x']\n",
    "        y = ele['value']['y']\n",
    "        width = ele['value']['width']\n",
    "        height = ele['value']['height']\n",
    "        label = ele['value']['rectanglelabels'][0]\n",
    "        temp.append({\n",
    "            \"x\":x,\n",
    "            \"y\":y,\n",
    "            \"width\":width,\n",
    "            \"height\":height,\n",
    "            \"label\":label\n",
    "        })\n",
    "    r = {\n",
    "        \"image_path\":image_path,\n",
    "        \"original_width\":original_width,\n",
    "        \"original_height\":original_height,\n",
    "        \"annots\":temp\n",
    "    }\n",
    "    all_r.append(r)\n",
    "    "
   ]
  },
  {
   "cell_type": "code",
   "execution_count": 102,
   "id": "e1813161-52cf-487b-8ee8-a1c28435f419",
   "metadata": {},
   "outputs": [
    {
     "data": {
      "text/plain": [
       "{'image_path': '3667931.jpg',\n",
       " 'original_width': 720,\n",
       " 'original_height': 1280,\n",
       " 'annots': [{'x': 42.5,\n",
       "   'y': 37.109375,\n",
       "   'width': 8.88888888888889,\n",
       "   'height': 13.4375,\n",
       "   'label': '페트'}]}"
      ]
     },
     "execution_count": 102,
     "metadata": {},
     "output_type": "execute_result"
    }
   ],
   "source": [
    "all_r[0]"
   ]
  },
  {
   "cell_type": "code",
   "execution_count": 98,
   "id": "e2b1d531-0130-4e90-b06d-65ae9722ee8b",
   "metadata": {},
   "outputs": [],
   "source": [
    "import matplotlib.pyplot as plt\n",
    "from PIL import Image\n",
    "import cv2"
   ]
  },
  {
   "cell_type": "code",
   "execution_count": 103,
   "id": "a20742ff-2fc4-44a7-baf3-3d83d1e365e5",
   "metadata": {},
   "outputs": [
    {
     "data": {
      "text/plain": [
       "True"
      ]
     },
     "execution_count": 103,
     "metadata": {},
     "output_type": "execute_result"
    }
   ],
   "source": [
    "cv2.imwrite('test_2.jpg', cv2.imread('/home/ubuntu/drcha-ai-datalake/raw/reusable-trash-images/3667931.jpg'))"
   ]
  },
  {
   "cell_type": "code",
   "execution_count": null,
   "id": "c53be5f8-42b6-43b6-bfbf-6794118ca395",
   "metadata": {},
   "outputs": [],
   "source": []
  }
 ],
 "metadata": {
  "kernelspec": {
   "display_name": "py37_garbage",
   "language": "python",
   "name": "garbage"
  },
  "language_info": {
   "codemirror_mode": {
    "name": "ipython",
    "version": 3
   },
   "file_extension": ".py",
   "mimetype": "text/x-python",
   "name": "python",
   "nbconvert_exporter": "python",
   "pygments_lexer": "ipython3",
   "version": "3.7.11"
  }
 },
 "nbformat": 4,
 "nbformat_minor": 5
}
